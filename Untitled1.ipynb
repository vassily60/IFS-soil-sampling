{
 "cells": [
  {
   "cell_type": "code",
   "execution_count": 100,
   "id": "8c7b005d",
   "metadata": {},
   "outputs": [],
   "source": [
    "library(dplyr)\n",
    "library(ggplot2)"
   ]
  },
  {
   "cell_type": "code",
   "execution_count": 101,
   "id": "ef2d6996",
   "metadata": {},
   "outputs": [],
   "source": [
    "df<- read.csv(\"SoilData.csv\", header=TRUE, stringsAsFactors=FALSE)"
   ]
  },
  {
   "cell_type": "code",
   "execution_count": 102,
   "id": "353e6841",
   "metadata": {},
   "outputs": [
    {
     "data": {
      "text/html": [
       "<table class=\"dataframe\">\n",
       "<caption>A data.frame: 19 × 10</caption>\n",
       "<thead>\n",
       "\t<tr><th></th><th scope=col>Sample.Site</th><th scope=col>Date</th><th scope=col>Temperature..C.</th><th scope=col>Humidity....</th><th scope=col>Conductivity</th><th scope=col>pH</th><th scope=col>N..mg.</th><th scope=col>P..mg.</th><th scope=col>K..mg.</th><th scope=col>Elevation..m.</th></tr>\n",
       "\t<tr><th></th><th scope=col>&lt;int&gt;</th><th scope=col>&lt;chr&gt;</th><th scope=col>&lt;dbl&gt;</th><th scope=col>&lt;dbl&gt;</th><th scope=col>&lt;dbl&gt;</th><th scope=col>&lt;dbl&gt;</th><th scope=col>&lt;dbl&gt;</th><th scope=col>&lt;dbl&gt;</th><th scope=col>&lt;dbl&gt;</th><th scope=col>&lt;int&gt;</th></tr>\n",
       "</thead>\n",
       "<tbody>\n",
       "\t<tr><th scope=row>1</th><td>17</td><td>7.13.24</td><td>22.50</td><td> 31.75</td><td> 58.00</td><td>6.64</td><td>3.50</td><td> 5.25</td><td>11.00</td><td> 80</td></tr>\n",
       "\t<tr><th scope=row>2</th><td>37</td><td>7.13.24</td><td>20.90</td><td> 44.25</td><td>101.75</td><td>6.69</td><td>7.00</td><td>10.00</td><td>20.25</td><td> 80</td></tr>\n",
       "\t<tr><th scope=row>3</th><td>24</td><td>7.14.24</td><td>17.63</td><td> 24.00</td><td> 20.25</td><td>5.92</td><td>0.75</td><td> 1.75</td><td> 3.50</td><td> 99</td></tr>\n",
       "\t<tr><th scope=row>4</th><td>25</td><td>7.14.24</td><td>23.95</td><td> 26.00</td><td> 19.75</td><td>6.31</td><td>1.00</td><td> 1.50</td><td> 3.50</td><td>104</td></tr>\n",
       "\t<tr><th scope=row>5</th><td>21</td><td>7.14.24</td><td>19.28</td><td> 32.00</td><td> 22.50</td><td>6.48</td><td>1.25</td><td> 1.50</td><td> 4.25</td><td>108</td></tr>\n",
       "\t<tr><th scope=row>6</th><td>11</td><td>7.13.24</td><td>22.55</td><td> 14.75</td><td>  0.00</td><td>6.60</td><td>0.00</td><td> 0.00</td><td> 0.00</td><td>213</td></tr>\n",
       "\t<tr><th scope=row>7</th><td>12</td><td>7.13.24</td><td>20.83</td><td> 21.00</td><td>  2.25</td><td>6.43</td><td>0.00</td><td> 0.00</td><td> 0.25</td><td>251</td></tr>\n",
       "\t<tr><th scope=row>8</th><td>13</td><td>7.13.24</td><td>17.38</td><td> 70.75</td><td> 82.25</td><td>6.61</td><td>5.25</td><td> 7.50</td><td>16.25</td><td>255</td></tr>\n",
       "\t<tr><th scope=row>9</th><td>15</td><td>7.13.24</td><td>19.93</td><td> 26.25</td><td>  5.00</td><td>6.29</td><td>0.00</td><td> 0.25</td><td> 0.50</td><td>252</td></tr>\n",
       "\t<tr><th scope=row>10</th><td>22</td><td>7.14.24</td><td>22.05</td><td> 41.75</td><td> 32.75</td><td>6.38</td><td>1.75</td><td> 2.75</td><td> 6.00</td><td>120</td></tr>\n",
       "\t<tr><th scope=row>11</th><td>26</td><td>7.14.24</td><td>20.50</td><td> 59.50</td><td> 26.00</td><td>6.21</td><td>1.50</td><td> 2.00</td><td> 4.75</td><td>119</td></tr>\n",
       "\t<tr><th scope=row>12</th><td> 1</td><td>7.15.24</td><td>18.70</td><td> 35.25</td><td> 12.25</td><td>6.40</td><td>0.75</td><td> 1.00</td><td> 2.25</td><td>426</td></tr>\n",
       "\t<tr><th scope=row>13</th><td> 5</td><td>7.15.24</td><td>22.43</td><td> 24.25</td><td>  4.50</td><td>6.43</td><td>0.25</td><td> 0.25</td><td> 0.75</td><td>346</td></tr>\n",
       "\t<tr><th scope=row>14</th><td> 3</td><td>7.15.24</td><td>20.25</td><td> 31.25</td><td>  9.75</td><td>6.35</td><td>0.25</td><td> 0.75</td><td> 1.75</td><td>378</td></tr>\n",
       "\t<tr><th scope=row>15</th><td> 7</td><td>7.15.24</td><td>19.43</td><td>100.00</td><td> 19.50</td><td>6.32</td><td>1.00</td><td> 1.50</td><td> 3.75</td><td>320</td></tr>\n",
       "\t<tr><th scope=row>16</th><td> 8</td><td>7.15.24</td><td>19.03</td><td> 21.00</td><td>  1.50</td><td>6.41</td><td>0.00</td><td> 0.00</td><td> 0.25</td><td>293</td></tr>\n",
       "\t<tr><th scope=row>17</th><td> 9</td><td>7.15.24</td><td>19.10</td><td> 23.25</td><td> 14.50</td><td>6.28</td><td>0.75</td><td> 1.00</td><td> 2.75</td><td>268</td></tr>\n",
       "\t<tr><th scope=row>18</th><td>10</td><td>7.15.24</td><td>19.48</td><td> 17.00</td><td>  3.00</td><td>6.58</td><td>0.00</td><td> 0.25</td><td> 0.50</td><td>162</td></tr>\n",
       "\t<tr><th scope=row>19</th><td>29</td><td>7.15.24</td><td>19.93</td><td> 18.50</td><td>  1.50</td><td>6.58</td><td>0.00</td><td> 0.00</td><td> 0.25</td><td>172</td></tr>\n",
       "</tbody>\n",
       "</table>\n"
      ],
      "text/latex": [
       "A data.frame: 19 × 10\n",
       "\\begin{tabular}{r|llllllllll}\n",
       "  & Sample.Site & Date & Temperature..C. & Humidity.... & Conductivity & pH & N..mg. & P..mg. & K..mg. & Elevation..m.\\\\\n",
       "  & <int> & <chr> & <dbl> & <dbl> & <dbl> & <dbl> & <dbl> & <dbl> & <dbl> & <int>\\\\\n",
       "\\hline\n",
       "\t1 & 17 & 7.13.24 & 22.50 &  31.75 &  58.00 & 6.64 & 3.50 &  5.25 & 11.00 &  80\\\\\n",
       "\t2 & 37 & 7.13.24 & 20.90 &  44.25 & 101.75 & 6.69 & 7.00 & 10.00 & 20.25 &  80\\\\\n",
       "\t3 & 24 & 7.14.24 & 17.63 &  24.00 &  20.25 & 5.92 & 0.75 &  1.75 &  3.50 &  99\\\\\n",
       "\t4 & 25 & 7.14.24 & 23.95 &  26.00 &  19.75 & 6.31 & 1.00 &  1.50 &  3.50 & 104\\\\\n",
       "\t5 & 21 & 7.14.24 & 19.28 &  32.00 &  22.50 & 6.48 & 1.25 &  1.50 &  4.25 & 108\\\\\n",
       "\t6 & 11 & 7.13.24 & 22.55 &  14.75 &   0.00 & 6.60 & 0.00 &  0.00 &  0.00 & 213\\\\\n",
       "\t7 & 12 & 7.13.24 & 20.83 &  21.00 &   2.25 & 6.43 & 0.00 &  0.00 &  0.25 & 251\\\\\n",
       "\t8 & 13 & 7.13.24 & 17.38 &  70.75 &  82.25 & 6.61 & 5.25 &  7.50 & 16.25 & 255\\\\\n",
       "\t9 & 15 & 7.13.24 & 19.93 &  26.25 &   5.00 & 6.29 & 0.00 &  0.25 &  0.50 & 252\\\\\n",
       "\t10 & 22 & 7.14.24 & 22.05 &  41.75 &  32.75 & 6.38 & 1.75 &  2.75 &  6.00 & 120\\\\\n",
       "\t11 & 26 & 7.14.24 & 20.50 &  59.50 &  26.00 & 6.21 & 1.50 &  2.00 &  4.75 & 119\\\\\n",
       "\t12 &  1 & 7.15.24 & 18.70 &  35.25 &  12.25 & 6.40 & 0.75 &  1.00 &  2.25 & 426\\\\\n",
       "\t13 &  5 & 7.15.24 & 22.43 &  24.25 &   4.50 & 6.43 & 0.25 &  0.25 &  0.75 & 346\\\\\n",
       "\t14 &  3 & 7.15.24 & 20.25 &  31.25 &   9.75 & 6.35 & 0.25 &  0.75 &  1.75 & 378\\\\\n",
       "\t15 &  7 & 7.15.24 & 19.43 & 100.00 &  19.50 & 6.32 & 1.00 &  1.50 &  3.75 & 320\\\\\n",
       "\t16 &  8 & 7.15.24 & 19.03 &  21.00 &   1.50 & 6.41 & 0.00 &  0.00 &  0.25 & 293\\\\\n",
       "\t17 &  9 & 7.15.24 & 19.10 &  23.25 &  14.50 & 6.28 & 0.75 &  1.00 &  2.75 & 268\\\\\n",
       "\t18 & 10 & 7.15.24 & 19.48 &  17.00 &   3.00 & 6.58 & 0.00 &  0.25 &  0.50 & 162\\\\\n",
       "\t19 & 29 & 7.15.24 & 19.93 &  18.50 &   1.50 & 6.58 & 0.00 &  0.00 &  0.25 & 172\\\\\n",
       "\\end{tabular}\n"
      ],
      "text/markdown": [
       "\n",
       "A data.frame: 19 × 10\n",
       "\n",
       "| <!--/--> | Sample.Site &lt;int&gt; | Date &lt;chr&gt; | Temperature..C. &lt;dbl&gt; | Humidity.... &lt;dbl&gt; | Conductivity &lt;dbl&gt; | pH &lt;dbl&gt; | N..mg. &lt;dbl&gt; | P..mg. &lt;dbl&gt; | K..mg. &lt;dbl&gt; | Elevation..m. &lt;int&gt; |\n",
       "|---|---|---|---|---|---|---|---|---|---|---|\n",
       "| 1 | 17 | 7.13.24 | 22.50 |  31.75 |  58.00 | 6.64 | 3.50 |  5.25 | 11.00 |  80 |\n",
       "| 2 | 37 | 7.13.24 | 20.90 |  44.25 | 101.75 | 6.69 | 7.00 | 10.00 | 20.25 |  80 |\n",
       "| 3 | 24 | 7.14.24 | 17.63 |  24.00 |  20.25 | 5.92 | 0.75 |  1.75 |  3.50 |  99 |\n",
       "| 4 | 25 | 7.14.24 | 23.95 |  26.00 |  19.75 | 6.31 | 1.00 |  1.50 |  3.50 | 104 |\n",
       "| 5 | 21 | 7.14.24 | 19.28 |  32.00 |  22.50 | 6.48 | 1.25 |  1.50 |  4.25 | 108 |\n",
       "| 6 | 11 | 7.13.24 | 22.55 |  14.75 |   0.00 | 6.60 | 0.00 |  0.00 |  0.00 | 213 |\n",
       "| 7 | 12 | 7.13.24 | 20.83 |  21.00 |   2.25 | 6.43 | 0.00 |  0.00 |  0.25 | 251 |\n",
       "| 8 | 13 | 7.13.24 | 17.38 |  70.75 |  82.25 | 6.61 | 5.25 |  7.50 | 16.25 | 255 |\n",
       "| 9 | 15 | 7.13.24 | 19.93 |  26.25 |   5.00 | 6.29 | 0.00 |  0.25 |  0.50 | 252 |\n",
       "| 10 | 22 | 7.14.24 | 22.05 |  41.75 |  32.75 | 6.38 | 1.75 |  2.75 |  6.00 | 120 |\n",
       "| 11 | 26 | 7.14.24 | 20.50 |  59.50 |  26.00 | 6.21 | 1.50 |  2.00 |  4.75 | 119 |\n",
       "| 12 |  1 | 7.15.24 | 18.70 |  35.25 |  12.25 | 6.40 | 0.75 |  1.00 |  2.25 | 426 |\n",
       "| 13 |  5 | 7.15.24 | 22.43 |  24.25 |   4.50 | 6.43 | 0.25 |  0.25 |  0.75 | 346 |\n",
       "| 14 |  3 | 7.15.24 | 20.25 |  31.25 |   9.75 | 6.35 | 0.25 |  0.75 |  1.75 | 378 |\n",
       "| 15 |  7 | 7.15.24 | 19.43 | 100.00 |  19.50 | 6.32 | 1.00 |  1.50 |  3.75 | 320 |\n",
       "| 16 |  8 | 7.15.24 | 19.03 |  21.00 |   1.50 | 6.41 | 0.00 |  0.00 |  0.25 | 293 |\n",
       "| 17 |  9 | 7.15.24 | 19.10 |  23.25 |  14.50 | 6.28 | 0.75 |  1.00 |  2.75 | 268 |\n",
       "| 18 | 10 | 7.15.24 | 19.48 |  17.00 |   3.00 | 6.58 | 0.00 |  0.25 |  0.50 | 162 |\n",
       "| 19 | 29 | 7.15.24 | 19.93 |  18.50 |   1.50 | 6.58 | 0.00 |  0.00 |  0.25 | 172 |\n",
       "\n"
      ],
      "text/plain": [
       "   Sample.Site Date    Temperature..C. Humidity.... Conductivity pH   N..mg.\n",
       "1  17          7.13.24 22.50            31.75        58.00       6.64 3.50  \n",
       "2  37          7.13.24 20.90            44.25       101.75       6.69 7.00  \n",
       "3  24          7.14.24 17.63            24.00        20.25       5.92 0.75  \n",
       "4  25          7.14.24 23.95            26.00        19.75       6.31 1.00  \n",
       "5  21          7.14.24 19.28            32.00        22.50       6.48 1.25  \n",
       "6  11          7.13.24 22.55            14.75         0.00       6.60 0.00  \n",
       "7  12          7.13.24 20.83            21.00         2.25       6.43 0.00  \n",
       "8  13          7.13.24 17.38            70.75        82.25       6.61 5.25  \n",
       "9  15          7.13.24 19.93            26.25         5.00       6.29 0.00  \n",
       "10 22          7.14.24 22.05            41.75        32.75       6.38 1.75  \n",
       "11 26          7.14.24 20.50            59.50        26.00       6.21 1.50  \n",
       "12  1          7.15.24 18.70            35.25        12.25       6.40 0.75  \n",
       "13  5          7.15.24 22.43            24.25         4.50       6.43 0.25  \n",
       "14  3          7.15.24 20.25            31.25         9.75       6.35 0.25  \n",
       "15  7          7.15.24 19.43           100.00        19.50       6.32 1.00  \n",
       "16  8          7.15.24 19.03            21.00         1.50       6.41 0.00  \n",
       "17  9          7.15.24 19.10            23.25        14.50       6.28 0.75  \n",
       "18 10          7.15.24 19.48            17.00         3.00       6.58 0.00  \n",
       "19 29          7.15.24 19.93            18.50         1.50       6.58 0.00  \n",
       "   P..mg. K..mg. Elevation..m.\n",
       "1   5.25  11.00   80          \n",
       "2  10.00  20.25   80          \n",
       "3   1.75   3.50   99          \n",
       "4   1.50   3.50  104          \n",
       "5   1.50   4.25  108          \n",
       "6   0.00   0.00  213          \n",
       "7   0.00   0.25  251          \n",
       "8   7.50  16.25  255          \n",
       "9   0.25   0.50  252          \n",
       "10  2.75   6.00  120          \n",
       "11  2.00   4.75  119          \n",
       "12  1.00   2.25  426          \n",
       "13  0.25   0.75  346          \n",
       "14  0.75   1.75  378          \n",
       "15  1.50   3.75  320          \n",
       "16  0.00   0.25  293          \n",
       "17  1.00   2.75  268          \n",
       "18  0.25   0.50  162          \n",
       "19  0.00   0.25  172          "
      ]
     },
     "metadata": {},
     "output_type": "display_data"
    }
   ],
   "source": [
    "head(df, n = Inf)"
   ]
  },
  {
   "cell_type": "code",
   "execution_count": 103,
   "id": "ef30265b",
   "metadata": {},
   "outputs": [],
   "source": [
    "df_arranged <- arrange(df, Elevation..m.)"
   ]
  },
  {
   "cell_type": "code",
   "execution_count": 104,
   "id": "29b6c884",
   "metadata": {},
   "outputs": [
    {
     "data": {
      "text/html": [
       "<table class=\"dataframe\">\n",
       "<caption>A data.frame: 19 × 10</caption>\n",
       "<thead>\n",
       "\t<tr><th scope=col>Sample.Site</th><th scope=col>Date</th><th scope=col>Temperature..C.</th><th scope=col>Humidity....</th><th scope=col>Conductivity</th><th scope=col>pH</th><th scope=col>N..mg.</th><th scope=col>P..mg.</th><th scope=col>K..mg.</th><th scope=col>Elevation..m.</th></tr>\n",
       "\t<tr><th scope=col>&lt;int&gt;</th><th scope=col>&lt;chr&gt;</th><th scope=col>&lt;dbl&gt;</th><th scope=col>&lt;dbl&gt;</th><th scope=col>&lt;dbl&gt;</th><th scope=col>&lt;dbl&gt;</th><th scope=col>&lt;dbl&gt;</th><th scope=col>&lt;dbl&gt;</th><th scope=col>&lt;dbl&gt;</th><th scope=col>&lt;int&gt;</th></tr>\n",
       "</thead>\n",
       "<tbody>\n",
       "\t<tr><td>17</td><td>7.13.24</td><td>22.50</td><td> 31.75</td><td> 58.00</td><td>6.64</td><td>3.50</td><td> 5.25</td><td>11.00</td><td> 80</td></tr>\n",
       "\t<tr><td>37</td><td>7.13.24</td><td>20.90</td><td> 44.25</td><td>101.75</td><td>6.69</td><td>7.00</td><td>10.00</td><td>20.25</td><td> 80</td></tr>\n",
       "\t<tr><td>24</td><td>7.14.24</td><td>17.63</td><td> 24.00</td><td> 20.25</td><td>5.92</td><td>0.75</td><td> 1.75</td><td> 3.50</td><td> 99</td></tr>\n",
       "\t<tr><td>25</td><td>7.14.24</td><td>23.95</td><td> 26.00</td><td> 19.75</td><td>6.31</td><td>1.00</td><td> 1.50</td><td> 3.50</td><td>104</td></tr>\n",
       "\t<tr><td>21</td><td>7.14.24</td><td>19.28</td><td> 32.00</td><td> 22.50</td><td>6.48</td><td>1.25</td><td> 1.50</td><td> 4.25</td><td>108</td></tr>\n",
       "\t<tr><td>26</td><td>7.14.24</td><td>20.50</td><td> 59.50</td><td> 26.00</td><td>6.21</td><td>1.50</td><td> 2.00</td><td> 4.75</td><td>119</td></tr>\n",
       "\t<tr><td>22</td><td>7.14.24</td><td>22.05</td><td> 41.75</td><td> 32.75</td><td>6.38</td><td>1.75</td><td> 2.75</td><td> 6.00</td><td>120</td></tr>\n",
       "\t<tr><td>10</td><td>7.15.24</td><td>19.48</td><td> 17.00</td><td>  3.00</td><td>6.58</td><td>0.00</td><td> 0.25</td><td> 0.50</td><td>162</td></tr>\n",
       "\t<tr><td>29</td><td>7.15.24</td><td>19.93</td><td> 18.50</td><td>  1.50</td><td>6.58</td><td>0.00</td><td> 0.00</td><td> 0.25</td><td>172</td></tr>\n",
       "\t<tr><td>11</td><td>7.13.24</td><td>22.55</td><td> 14.75</td><td>  0.00</td><td>6.60</td><td>0.00</td><td> 0.00</td><td> 0.00</td><td>213</td></tr>\n",
       "\t<tr><td>12</td><td>7.13.24</td><td>20.83</td><td> 21.00</td><td>  2.25</td><td>6.43</td><td>0.00</td><td> 0.00</td><td> 0.25</td><td>251</td></tr>\n",
       "\t<tr><td>15</td><td>7.13.24</td><td>19.93</td><td> 26.25</td><td>  5.00</td><td>6.29</td><td>0.00</td><td> 0.25</td><td> 0.50</td><td>252</td></tr>\n",
       "\t<tr><td>13</td><td>7.13.24</td><td>17.38</td><td> 70.75</td><td> 82.25</td><td>6.61</td><td>5.25</td><td> 7.50</td><td>16.25</td><td>255</td></tr>\n",
       "\t<tr><td> 9</td><td>7.15.24</td><td>19.10</td><td> 23.25</td><td> 14.50</td><td>6.28</td><td>0.75</td><td> 1.00</td><td> 2.75</td><td>268</td></tr>\n",
       "\t<tr><td> 8</td><td>7.15.24</td><td>19.03</td><td> 21.00</td><td>  1.50</td><td>6.41</td><td>0.00</td><td> 0.00</td><td> 0.25</td><td>293</td></tr>\n",
       "\t<tr><td> 7</td><td>7.15.24</td><td>19.43</td><td>100.00</td><td> 19.50</td><td>6.32</td><td>1.00</td><td> 1.50</td><td> 3.75</td><td>320</td></tr>\n",
       "\t<tr><td> 5</td><td>7.15.24</td><td>22.43</td><td> 24.25</td><td>  4.50</td><td>6.43</td><td>0.25</td><td> 0.25</td><td> 0.75</td><td>346</td></tr>\n",
       "\t<tr><td> 3</td><td>7.15.24</td><td>20.25</td><td> 31.25</td><td>  9.75</td><td>6.35</td><td>0.25</td><td> 0.75</td><td> 1.75</td><td>378</td></tr>\n",
       "\t<tr><td> 1</td><td>7.15.24</td><td>18.70</td><td> 35.25</td><td> 12.25</td><td>6.40</td><td>0.75</td><td> 1.00</td><td> 2.25</td><td>426</td></tr>\n",
       "</tbody>\n",
       "</table>\n"
      ],
      "text/latex": [
       "A data.frame: 19 × 10\n",
       "\\begin{tabular}{llllllllll}\n",
       " Sample.Site & Date & Temperature..C. & Humidity.... & Conductivity & pH & N..mg. & P..mg. & K..mg. & Elevation..m.\\\\\n",
       " <int> & <chr> & <dbl> & <dbl> & <dbl> & <dbl> & <dbl> & <dbl> & <dbl> & <int>\\\\\n",
       "\\hline\n",
       "\t 17 & 7.13.24 & 22.50 &  31.75 &  58.00 & 6.64 & 3.50 &  5.25 & 11.00 &  80\\\\\n",
       "\t 37 & 7.13.24 & 20.90 &  44.25 & 101.75 & 6.69 & 7.00 & 10.00 & 20.25 &  80\\\\\n",
       "\t 24 & 7.14.24 & 17.63 &  24.00 &  20.25 & 5.92 & 0.75 &  1.75 &  3.50 &  99\\\\\n",
       "\t 25 & 7.14.24 & 23.95 &  26.00 &  19.75 & 6.31 & 1.00 &  1.50 &  3.50 & 104\\\\\n",
       "\t 21 & 7.14.24 & 19.28 &  32.00 &  22.50 & 6.48 & 1.25 &  1.50 &  4.25 & 108\\\\\n",
       "\t 26 & 7.14.24 & 20.50 &  59.50 &  26.00 & 6.21 & 1.50 &  2.00 &  4.75 & 119\\\\\n",
       "\t 22 & 7.14.24 & 22.05 &  41.75 &  32.75 & 6.38 & 1.75 &  2.75 &  6.00 & 120\\\\\n",
       "\t 10 & 7.15.24 & 19.48 &  17.00 &   3.00 & 6.58 & 0.00 &  0.25 &  0.50 & 162\\\\\n",
       "\t 29 & 7.15.24 & 19.93 &  18.50 &   1.50 & 6.58 & 0.00 &  0.00 &  0.25 & 172\\\\\n",
       "\t 11 & 7.13.24 & 22.55 &  14.75 &   0.00 & 6.60 & 0.00 &  0.00 &  0.00 & 213\\\\\n",
       "\t 12 & 7.13.24 & 20.83 &  21.00 &   2.25 & 6.43 & 0.00 &  0.00 &  0.25 & 251\\\\\n",
       "\t 15 & 7.13.24 & 19.93 &  26.25 &   5.00 & 6.29 & 0.00 &  0.25 &  0.50 & 252\\\\\n",
       "\t 13 & 7.13.24 & 17.38 &  70.75 &  82.25 & 6.61 & 5.25 &  7.50 & 16.25 & 255\\\\\n",
       "\t  9 & 7.15.24 & 19.10 &  23.25 &  14.50 & 6.28 & 0.75 &  1.00 &  2.75 & 268\\\\\n",
       "\t  8 & 7.15.24 & 19.03 &  21.00 &   1.50 & 6.41 & 0.00 &  0.00 &  0.25 & 293\\\\\n",
       "\t  7 & 7.15.24 & 19.43 & 100.00 &  19.50 & 6.32 & 1.00 &  1.50 &  3.75 & 320\\\\\n",
       "\t  5 & 7.15.24 & 22.43 &  24.25 &   4.50 & 6.43 & 0.25 &  0.25 &  0.75 & 346\\\\\n",
       "\t  3 & 7.15.24 & 20.25 &  31.25 &   9.75 & 6.35 & 0.25 &  0.75 &  1.75 & 378\\\\\n",
       "\t  1 & 7.15.24 & 18.70 &  35.25 &  12.25 & 6.40 & 0.75 &  1.00 &  2.25 & 426\\\\\n",
       "\\end{tabular}\n"
      ],
      "text/markdown": [
       "\n",
       "A data.frame: 19 × 10\n",
       "\n",
       "| Sample.Site &lt;int&gt; | Date &lt;chr&gt; | Temperature..C. &lt;dbl&gt; | Humidity.... &lt;dbl&gt; | Conductivity &lt;dbl&gt; | pH &lt;dbl&gt; | N..mg. &lt;dbl&gt; | P..mg. &lt;dbl&gt; | K..mg. &lt;dbl&gt; | Elevation..m. &lt;int&gt; |\n",
       "|---|---|---|---|---|---|---|---|---|---|\n",
       "| 17 | 7.13.24 | 22.50 |  31.75 |  58.00 | 6.64 | 3.50 |  5.25 | 11.00 |  80 |\n",
       "| 37 | 7.13.24 | 20.90 |  44.25 | 101.75 | 6.69 | 7.00 | 10.00 | 20.25 |  80 |\n",
       "| 24 | 7.14.24 | 17.63 |  24.00 |  20.25 | 5.92 | 0.75 |  1.75 |  3.50 |  99 |\n",
       "| 25 | 7.14.24 | 23.95 |  26.00 |  19.75 | 6.31 | 1.00 |  1.50 |  3.50 | 104 |\n",
       "| 21 | 7.14.24 | 19.28 |  32.00 |  22.50 | 6.48 | 1.25 |  1.50 |  4.25 | 108 |\n",
       "| 26 | 7.14.24 | 20.50 |  59.50 |  26.00 | 6.21 | 1.50 |  2.00 |  4.75 | 119 |\n",
       "| 22 | 7.14.24 | 22.05 |  41.75 |  32.75 | 6.38 | 1.75 |  2.75 |  6.00 | 120 |\n",
       "| 10 | 7.15.24 | 19.48 |  17.00 |   3.00 | 6.58 | 0.00 |  0.25 |  0.50 | 162 |\n",
       "| 29 | 7.15.24 | 19.93 |  18.50 |   1.50 | 6.58 | 0.00 |  0.00 |  0.25 | 172 |\n",
       "| 11 | 7.13.24 | 22.55 |  14.75 |   0.00 | 6.60 | 0.00 |  0.00 |  0.00 | 213 |\n",
       "| 12 | 7.13.24 | 20.83 |  21.00 |   2.25 | 6.43 | 0.00 |  0.00 |  0.25 | 251 |\n",
       "| 15 | 7.13.24 | 19.93 |  26.25 |   5.00 | 6.29 | 0.00 |  0.25 |  0.50 | 252 |\n",
       "| 13 | 7.13.24 | 17.38 |  70.75 |  82.25 | 6.61 | 5.25 |  7.50 | 16.25 | 255 |\n",
       "|  9 | 7.15.24 | 19.10 |  23.25 |  14.50 | 6.28 | 0.75 |  1.00 |  2.75 | 268 |\n",
       "|  8 | 7.15.24 | 19.03 |  21.00 |   1.50 | 6.41 | 0.00 |  0.00 |  0.25 | 293 |\n",
       "|  7 | 7.15.24 | 19.43 | 100.00 |  19.50 | 6.32 | 1.00 |  1.50 |  3.75 | 320 |\n",
       "|  5 | 7.15.24 | 22.43 |  24.25 |   4.50 | 6.43 | 0.25 |  0.25 |  0.75 | 346 |\n",
       "|  3 | 7.15.24 | 20.25 |  31.25 |   9.75 | 6.35 | 0.25 |  0.75 |  1.75 | 378 |\n",
       "|  1 | 7.15.24 | 18.70 |  35.25 |  12.25 | 6.40 | 0.75 |  1.00 |  2.25 | 426 |\n",
       "\n"
      ],
      "text/plain": [
       "   Sample.Site Date    Temperature..C. Humidity.... Conductivity pH   N..mg.\n",
       "1  17          7.13.24 22.50            31.75        58.00       6.64 3.50  \n",
       "2  37          7.13.24 20.90            44.25       101.75       6.69 7.00  \n",
       "3  24          7.14.24 17.63            24.00        20.25       5.92 0.75  \n",
       "4  25          7.14.24 23.95            26.00        19.75       6.31 1.00  \n",
       "5  21          7.14.24 19.28            32.00        22.50       6.48 1.25  \n",
       "6  26          7.14.24 20.50            59.50        26.00       6.21 1.50  \n",
       "7  22          7.14.24 22.05            41.75        32.75       6.38 1.75  \n",
       "8  10          7.15.24 19.48            17.00         3.00       6.58 0.00  \n",
       "9  29          7.15.24 19.93            18.50         1.50       6.58 0.00  \n",
       "10 11          7.13.24 22.55            14.75         0.00       6.60 0.00  \n",
       "11 12          7.13.24 20.83            21.00         2.25       6.43 0.00  \n",
       "12 15          7.13.24 19.93            26.25         5.00       6.29 0.00  \n",
       "13 13          7.13.24 17.38            70.75        82.25       6.61 5.25  \n",
       "14  9          7.15.24 19.10            23.25        14.50       6.28 0.75  \n",
       "15  8          7.15.24 19.03            21.00         1.50       6.41 0.00  \n",
       "16  7          7.15.24 19.43           100.00        19.50       6.32 1.00  \n",
       "17  5          7.15.24 22.43            24.25         4.50       6.43 0.25  \n",
       "18  3          7.15.24 20.25            31.25         9.75       6.35 0.25  \n",
       "19  1          7.15.24 18.70            35.25        12.25       6.40 0.75  \n",
       "   P..mg. K..mg. Elevation..m.\n",
       "1   5.25  11.00   80          \n",
       "2  10.00  20.25   80          \n",
       "3   1.75   3.50   99          \n",
       "4   1.50   3.50  104          \n",
       "5   1.50   4.25  108          \n",
       "6   2.00   4.75  119          \n",
       "7   2.75   6.00  120          \n",
       "8   0.25   0.50  162          \n",
       "9   0.00   0.25  172          \n",
       "10  0.00   0.00  213          \n",
       "11  0.00   0.25  251          \n",
       "12  0.25   0.50  252          \n",
       "13  7.50  16.25  255          \n",
       "14  1.00   2.75  268          \n",
       "15  0.00   0.25  293          \n",
       "16  1.50   3.75  320          \n",
       "17  0.25   0.75  346          \n",
       "18  0.75   1.75  378          \n",
       "19  1.00   2.25  426          "
      ]
     },
     "metadata": {},
     "output_type": "display_data"
    }
   ],
   "source": [
    "df_arranged"
   ]
  },
  {
   "cell_type": "code",
   "execution_count": null,
   "id": "7381d995",
   "metadata": {},
   "outputs": [],
   "source": []
  },
  {
   "cell_type": "code",
   "execution_count": null,
   "id": "f7b2e9ea",
   "metadata": {},
   "outputs": [],
   "source": []
  },
  {
   "cell_type": "code",
   "execution_count": 160,
   "id": "6355c716",
   "metadata": {},
   "outputs": [],
   "source": [
    "n <- 3\n",
    "\n",
    "# Calculate the number of rows per group\n",
    "total_rows <- nrow(df_arranged)\n",
    "rows_per_group <- ceiling(total_rows / n)\n",
    "\n",
    "# Create the groups dynamically\n",
    "for (i in 1:n) {\n",
    "  start_index <- (i - 1) * rows_per_group + 1\n",
    "  end_index <- min(i * rows_per_group, total_rows)\n",
    "  group_df <- df[start_index:end_index, ]\n",
    "  \n",
    "  # Assign the new data frame to a variable with a dynamic name\n",
    "  assign(paste0(\"group\", i), group_df)\n",
    "}\n"
   ]
  },
  {
   "cell_type": "code",
   "execution_count": 163,
   "id": "fc8454f2",
   "metadata": {},
   "outputs": [
    {
     "data": {
      "text/html": [
       "<table class=\"dataframe\">\n",
       "<caption>A data.frame: 7 × 10</caption>\n",
       "<thead>\n",
       "\t<tr><th></th><th scope=col>Sample.Site</th><th scope=col>Date</th><th scope=col>Temperature..C.</th><th scope=col>Humidity....</th><th scope=col>Conductivity</th><th scope=col>pH</th><th scope=col>N..mg.</th><th scope=col>P..mg.</th><th scope=col>K..mg.</th><th scope=col>Elevation..m.</th></tr>\n",
       "\t<tr><th></th><th scope=col>&lt;int&gt;</th><th scope=col>&lt;chr&gt;</th><th scope=col>&lt;dbl&gt;</th><th scope=col>&lt;dbl&gt;</th><th scope=col>&lt;dbl&gt;</th><th scope=col>&lt;dbl&gt;</th><th scope=col>&lt;dbl&gt;</th><th scope=col>&lt;dbl&gt;</th><th scope=col>&lt;dbl&gt;</th><th scope=col>&lt;int&gt;</th></tr>\n",
       "</thead>\n",
       "<tbody>\n",
       "\t<tr><th scope=row>1</th><td>17</td><td>7.13.24</td><td>22.50</td><td>31.75</td><td> 58.00</td><td>6.64</td><td>3.50</td><td> 5.25</td><td>11.00</td><td> 80</td></tr>\n",
       "\t<tr><th scope=row>2</th><td>37</td><td>7.13.24</td><td>20.90</td><td>44.25</td><td>101.75</td><td>6.69</td><td>7.00</td><td>10.00</td><td>20.25</td><td> 80</td></tr>\n",
       "\t<tr><th scope=row>3</th><td>24</td><td>7.14.24</td><td>17.63</td><td>24.00</td><td> 20.25</td><td>5.92</td><td>0.75</td><td> 1.75</td><td> 3.50</td><td> 99</td></tr>\n",
       "\t<tr><th scope=row>4</th><td>25</td><td>7.14.24</td><td>23.95</td><td>26.00</td><td> 19.75</td><td>6.31</td><td>1.00</td><td> 1.50</td><td> 3.50</td><td>104</td></tr>\n",
       "\t<tr><th scope=row>5</th><td>21</td><td>7.14.24</td><td>19.28</td><td>32.00</td><td> 22.50</td><td>6.48</td><td>1.25</td><td> 1.50</td><td> 4.25</td><td>108</td></tr>\n",
       "\t<tr><th scope=row>6</th><td>11</td><td>7.13.24</td><td>22.55</td><td>14.75</td><td>  0.00</td><td>6.60</td><td>0.00</td><td> 0.00</td><td> 0.00</td><td>213</td></tr>\n",
       "\t<tr><th scope=row>7</th><td>12</td><td>7.13.24</td><td>20.83</td><td>21.00</td><td>  2.25</td><td>6.43</td><td>0.00</td><td> 0.00</td><td> 0.25</td><td>251</td></tr>\n",
       "</tbody>\n",
       "</table>\n"
      ],
      "text/latex": [
       "A data.frame: 7 × 10\n",
       "\\begin{tabular}{r|llllllllll}\n",
       "  & Sample.Site & Date & Temperature..C. & Humidity.... & Conductivity & pH & N..mg. & P..mg. & K..mg. & Elevation..m.\\\\\n",
       "  & <int> & <chr> & <dbl> & <dbl> & <dbl> & <dbl> & <dbl> & <dbl> & <dbl> & <int>\\\\\n",
       "\\hline\n",
       "\t1 & 17 & 7.13.24 & 22.50 & 31.75 &  58.00 & 6.64 & 3.50 &  5.25 & 11.00 &  80\\\\\n",
       "\t2 & 37 & 7.13.24 & 20.90 & 44.25 & 101.75 & 6.69 & 7.00 & 10.00 & 20.25 &  80\\\\\n",
       "\t3 & 24 & 7.14.24 & 17.63 & 24.00 &  20.25 & 5.92 & 0.75 &  1.75 &  3.50 &  99\\\\\n",
       "\t4 & 25 & 7.14.24 & 23.95 & 26.00 &  19.75 & 6.31 & 1.00 &  1.50 &  3.50 & 104\\\\\n",
       "\t5 & 21 & 7.14.24 & 19.28 & 32.00 &  22.50 & 6.48 & 1.25 &  1.50 &  4.25 & 108\\\\\n",
       "\t6 & 11 & 7.13.24 & 22.55 & 14.75 &   0.00 & 6.60 & 0.00 &  0.00 &  0.00 & 213\\\\\n",
       "\t7 & 12 & 7.13.24 & 20.83 & 21.00 &   2.25 & 6.43 & 0.00 &  0.00 &  0.25 & 251\\\\\n",
       "\\end{tabular}\n"
      ],
      "text/markdown": [
       "\n",
       "A data.frame: 7 × 10\n",
       "\n",
       "| <!--/--> | Sample.Site &lt;int&gt; | Date &lt;chr&gt; | Temperature..C. &lt;dbl&gt; | Humidity.... &lt;dbl&gt; | Conductivity &lt;dbl&gt; | pH &lt;dbl&gt; | N..mg. &lt;dbl&gt; | P..mg. &lt;dbl&gt; | K..mg. &lt;dbl&gt; | Elevation..m. &lt;int&gt; |\n",
       "|---|---|---|---|---|---|---|---|---|---|---|\n",
       "| 1 | 17 | 7.13.24 | 22.50 | 31.75 |  58.00 | 6.64 | 3.50 |  5.25 | 11.00 |  80 |\n",
       "| 2 | 37 | 7.13.24 | 20.90 | 44.25 | 101.75 | 6.69 | 7.00 | 10.00 | 20.25 |  80 |\n",
       "| 3 | 24 | 7.14.24 | 17.63 | 24.00 |  20.25 | 5.92 | 0.75 |  1.75 |  3.50 |  99 |\n",
       "| 4 | 25 | 7.14.24 | 23.95 | 26.00 |  19.75 | 6.31 | 1.00 |  1.50 |  3.50 | 104 |\n",
       "| 5 | 21 | 7.14.24 | 19.28 | 32.00 |  22.50 | 6.48 | 1.25 |  1.50 |  4.25 | 108 |\n",
       "| 6 | 11 | 7.13.24 | 22.55 | 14.75 |   0.00 | 6.60 | 0.00 |  0.00 |  0.00 | 213 |\n",
       "| 7 | 12 | 7.13.24 | 20.83 | 21.00 |   2.25 | 6.43 | 0.00 |  0.00 |  0.25 | 251 |\n",
       "\n"
      ],
      "text/plain": [
       "  Sample.Site Date    Temperature..C. Humidity.... Conductivity pH   N..mg.\n",
       "1 17          7.13.24 22.50           31.75         58.00       6.64 3.50  \n",
       "2 37          7.13.24 20.90           44.25        101.75       6.69 7.00  \n",
       "3 24          7.14.24 17.63           24.00         20.25       5.92 0.75  \n",
       "4 25          7.14.24 23.95           26.00         19.75       6.31 1.00  \n",
       "5 21          7.14.24 19.28           32.00         22.50       6.48 1.25  \n",
       "6 11          7.13.24 22.55           14.75          0.00       6.60 0.00  \n",
       "7 12          7.13.24 20.83           21.00          2.25       6.43 0.00  \n",
       "  P..mg. K..mg. Elevation..m.\n",
       "1  5.25  11.00   80          \n",
       "2 10.00  20.25   80          \n",
       "3  1.75   3.50   99          \n",
       "4  1.50   3.50  104          \n",
       "5  1.50   4.25  108          \n",
       "6  0.00   0.00  213          \n",
       "7  0.00   0.25  251          "
      ]
     },
     "metadata": {},
     "output_type": "display_data"
    }
   ],
   "source": [
    "group1"
   ]
  },
  {
   "cell_type": "code",
   "execution_count": 172,
   "id": "8a410690",
   "metadata": {},
   "outputs": [],
   "source": [
    "columns_to_list <- c( \"N..mg.\",\"P..mg.\", \"K..mg.\")"
   ]
  },
  {
   "cell_type": "code",
   "execution_count": 183,
   "id": "523bd280",
   "metadata": {},
   "outputs": [],
   "source": [
    "list_gr1 <- as.list(group1[columns_to_list])\n",
    "list_gr2 <- as.list(group2[columns_to_list])\n",
    "list_gr3 <- as.list(group3[columns_to_list])\n",
    "\n",
    "names(list_gr1) <- c(paste(\"N\"), paste(\"P\"),  paste(\"K\"))\n",
    "names(list_gr2) <- c( paste(\"N)\"), paste(\"P\"),  paste(\"K\"))\n",
    "names(list_gr3) <- c( paste(\"N)\"), paste(\"P\"),  paste(\"K)\"))\n"
   ]
  },
  {
   "cell_type": "code",
   "execution_count": 186,
   "id": "c9ade8b6",
   "metadata": {},
   "outputs": [
    {
     "data": {
      "image/png": "[encoded data removed]",
      "text/plain": [
       "Plot with title “Elevation 1”"
      ]
     },
     "metadata": {
      "image/png": {
       "height": 420,
       "width": 420
      }
     },
     "output_type": "display_data"
    },
    {
     "data": {
      "image/png": "[encoded data removed]",
      "text/plain": [
       "Plot with title “Elevation 2”"
      ]
     },
     "metadata": {
      "image/png": {
       "height": 420,
       "width": 420
      }
     },
     "output_type": "display_data"
    },
    {
     "data": {
      "image/png": "[encoded data removed]",
      "text/plain": [
       "Plot with title “Elevation 3”"
      ]
     },
     "metadata": {
      "image/png": {
       "height": 420,
       "width": 420
      }
     },
     "output_type": "display_data"
    }
   ],
   "source": [
    "boxplot(list_gr1 , col=\"#69b3a2\" , ylab=\"Paramters\",xlab=\"mg\" ,horizontal=TRUE, main=\"Elevation 1\" , ylim=c(0,20) )\n",
    "boxplot(list_gr2 , col=\"#69b3a2\" , ylab=\"Paramters\",xlab='mg' , horizontal=TRUE, main=\"Elevation 2\", ylim=c(0,20))\n",
    "boxplot(list_gr3 , col=\"#69b3a2\" , ylab=\"Paramters\",xlab='mg' , horizontal=TRUE, main=\"Elevation 3\", ylim=c(0,20))\n"
   ]
  },
  {
   "cell_type": "code",
   "execution_count": 176,
   "id": "06f8c763",
   "metadata": {},
   "outputs": [],
   "source": []
  },
  {
   "cell_type": "code",
   "execution_count": null,
   "id": "1fa1f620",
   "metadata": {},
   "outputs": [],
   "source": []
  }
 ],
 "metadata": {
  "kernelspec": {
   "display_name": "R",
   "language": "R",
   "name": "ir"
  },
  "language_info": {
   "codemirror_mode": "r",
   "file_extension": ".r",
   "mimetype": "text/x-r-source",
   "name": "R",
   "pygments_lexer": "r",
   "version": "3.5.2"
  }
 },
 "nbformat": 4,
 "nbformat_minor": 5
}
